{
  "nbformat": 4,
  "nbformat_minor": 0,
  "metadata": {
    "colab": {
      "provenance": [],
      "mount_file_id": "1n3aa3TVUjlsvNRgbaTP-XwW2k0nWxwXa",
      "authorship_tag": "ABX9TyNeEazPe04PuEU34o5s7kWQ",
      "include_colab_link": true
    },
    "kernelspec": {
      "name": "python3",
      "display_name": "Python 3"
    },
    "language_info": {
      "name": "python"
    }
  },
  "cells": [
    {
      "cell_type": "markdown",
      "metadata": {
        "id": "view-in-github",
        "colab_type": "text"
      },
      "source": [
        "<a href=\"https://colab.research.google.com/github/jcmachicao/cisti2025_earlysymbolicknowledge/blob/main/pp_symbolic_read_v4.ipynb\" target=\"_parent\"><img src=\"https://colab.research.google.com/assets/colab-badge.svg\" alt=\"Open In Colab\"/></a>"
      ]
    },
    {
      "cell_type": "code",
      "source": [
        "!pip install --upgrade --force-reinstall gensim"
      ],
      "metadata": {
        "colab": {
          "base_uri": "https://localhost:8080/",
          "height": 877
        },
        "id": "oAL-yS2p4FLA",
        "outputId": "28e8e81a-b5d9-436f-e64c-b30618ddbdf4",
        "collapsed": true
      },
      "execution_count": null,
      "outputs": [
        {
          "output_type": "stream",
          "name": "stdout",
          "text": [
            "Collecting gensim\n",
            "  Downloading gensim-4.3.3-cp311-cp311-manylinux_2_17_x86_64.manylinux2014_x86_64.whl.metadata (8.1 kB)\n",
            "Collecting numpy<2.0,>=1.18.5 (from gensim)\n",
            "  Downloading numpy-1.26.4-cp311-cp311-manylinux_2_17_x86_64.manylinux2014_x86_64.whl.metadata (61 kB)\n",
            "\u001b[2K     \u001b[90m━━━━━━━━━━━━━━━━━━━━━━━━━━━━━━━━━━━━━━━━\u001b[0m \u001b[32m61.0/61.0 kB\u001b[0m \u001b[31m2.5 MB/s\u001b[0m eta \u001b[36m0:00:00\u001b[0m\n",
            "\u001b[?25hCollecting scipy<1.14.0,>=1.7.0 (from gensim)\n",
            "  Downloading scipy-1.13.1-cp311-cp311-manylinux_2_17_x86_64.manylinux2014_x86_64.whl.metadata (60 kB)\n",
            "\u001b[2K     \u001b[90m━━━━━━━━━━━━━━━━━━━━━━━━━━━━━━━━━━━━━━━━\u001b[0m \u001b[32m60.6/60.6 kB\u001b[0m \u001b[31m3.7 MB/s\u001b[0m eta \u001b[36m0:00:00\u001b[0m\n",
            "\u001b[?25hCollecting smart-open>=1.8.1 (from gensim)\n",
            "  Downloading smart_open-7.1.0-py3-none-any.whl.metadata (24 kB)\n",
            "Collecting wrapt (from smart-open>=1.8.1->gensim)\n",
            "  Downloading wrapt-1.17.2-cp311-cp311-manylinux_2_5_x86_64.manylinux1_x86_64.manylinux_2_17_x86_64.manylinux2014_x86_64.whl.metadata (6.4 kB)\n",
            "Downloading gensim-4.3.3-cp311-cp311-manylinux_2_17_x86_64.manylinux2014_x86_64.whl (26.7 MB)\n",
            "\u001b[2K   \u001b[90m━━━━━━━━━━━━━━━━━━━━━━━━━━━━━━━━━━━━━━━━\u001b[0m \u001b[32m26.7/26.7 MB\u001b[0m \u001b[31m14.1 MB/s\u001b[0m eta \u001b[36m0:00:00\u001b[0m\n",
            "\u001b[?25hDownloading numpy-1.26.4-cp311-cp311-manylinux_2_17_x86_64.manylinux2014_x86_64.whl (18.3 MB)\n",
            "\u001b[2K   \u001b[90m━━━━━━━━━━━━━━━━━━━━━━━━━━━━━━━━━━━━━━━━\u001b[0m \u001b[32m18.3/18.3 MB\u001b[0m \u001b[31m19.9 MB/s\u001b[0m eta \u001b[36m0:00:00\u001b[0m\n",
            "\u001b[?25hDownloading scipy-1.13.1-cp311-cp311-manylinux_2_17_x86_64.manylinux2014_x86_64.whl (38.6 MB)\n",
            "\u001b[2K   \u001b[90m━━━━━━━━━━━━━━━━━━━━━━━━━━━━━━━━━━━━━━━━\u001b[0m \u001b[32m38.6/38.6 MB\u001b[0m \u001b[31m6.2 MB/s\u001b[0m eta \u001b[36m0:00:00\u001b[0m\n",
            "\u001b[?25hDownloading smart_open-7.1.0-py3-none-any.whl (61 kB)\n",
            "\u001b[2K   \u001b[90m━━━━━━━━━━━━━━━━━━━━━━━━━━━━━━━━━━━━━━━━\u001b[0m \u001b[32m61.7/61.7 kB\u001b[0m \u001b[31m3.7 MB/s\u001b[0m eta \u001b[36m0:00:00\u001b[0m\n",
            "\u001b[?25hDownloading wrapt-1.17.2-cp311-cp311-manylinux_2_5_x86_64.manylinux1_x86_64.manylinux_2_17_x86_64.manylinux2014_x86_64.whl (83 kB)\n",
            "\u001b[2K   \u001b[90m━━━━━━━━━━━━━━━━━━━━━━━━━━━━━━━━━━━━━━━━\u001b[0m \u001b[32m83.2/83.2 kB\u001b[0m \u001b[31m4.6 MB/s\u001b[0m eta \u001b[36m0:00:00\u001b[0m\n",
            "\u001b[?25hInstalling collected packages: wrapt, numpy, smart-open, scipy, gensim\n",
            "  Attempting uninstall: wrapt\n",
            "    Found existing installation: wrapt 1.17.2\n",
            "    Uninstalling wrapt-1.17.2:\n",
            "      Successfully uninstalled wrapt-1.17.2\n",
            "  Attempting uninstall: numpy\n",
            "    Found existing installation: numpy 1.26.4\n",
            "    Uninstalling numpy-1.26.4:\n",
            "      Successfully uninstalled numpy-1.26.4\n",
            "  Attempting uninstall: smart-open\n",
            "    Found existing installation: smart-open 7.1.0\n",
            "    Uninstalling smart-open-7.1.0:\n",
            "      Successfully uninstalled smart-open-7.1.0\n",
            "  Attempting uninstall: scipy\n",
            "    Found existing installation: scipy 1.13.1\n",
            "    Uninstalling scipy-1.13.1:\n",
            "      Successfully uninstalled scipy-1.13.1\n",
            "  Attempting uninstall: gensim\n",
            "    Found existing installation: gensim 4.3.3\n",
            "    Uninstalling gensim-4.3.3:\n",
            "      Successfully uninstalled gensim-4.3.3\n",
            "Successfully installed gensim-4.3.3 numpy-1.26.4 scipy-1.13.1 smart-open-7.1.0 wrapt-1.17.2\n"
          ]
        },
        {
          "output_type": "display_data",
          "data": {
            "application/vnd.colab-display-data+json": {
              "pip_warning": {
                "packages": [
                  "gensim",
                  "smart_open",
                  "wrapt"
                ]
              },
              "id": "edde154a927d4c52bea3835ab702b446"
            }
          },
          "metadata": {}
        }
      ]
    },
    {
      "cell_type": "markdown",
      "source": [
        "# Experiment (Architecture A_6)"
      ],
      "metadata": {
        "id": "s5LCez3D3Mu7"
      }
    },
    {
      "cell_type": "code",
      "source": [
        "import os, json\n",
        "import pandas as pd\n",
        "import numpy as np\n",
        "from gensim.models import Word2Vec\n",
        "import datetime"
      ],
      "metadata": {
        "id": "WYlBkjej_Zu0"
      },
      "execution_count": null,
      "outputs": []
    },
    {
      "cell_type": "code",
      "source": [
        "lab_data = pd.DataFrame()"
      ],
      "metadata": {
        "id": "YFTEIhv2LMQr"
      },
      "execution_count": null,
      "outputs": []
    },
    {
      "cell_type": "code",
      "source": [
        "# Cargar frases desde los archivos JSON\n",
        "# path = \"D://2025 hot writing/pp_symbolic_knowledge_LLM/\"\n",
        "path = \"drive/My Drive/00 2025_all/2025 Papers/\"\n",
        "os.listdir(path)"
      ],
      "metadata": {
        "colab": {
          "base_uri": "https://localhost:8080/"
        },
        "id": "2LzRSEVDF-KM",
        "outputId": "96169670-3dac-43e6-a612-7fe521f90c8d"
      },
      "execution_count": null,
      "outputs": [
        {
          "output_type": "execute_result",
          "data": {
            "text/plain": [
              "['pp_GovCxSys__simulation-framework.py',\n",
              " 'pp_simul__complexsystem_governance.ipynb',\n",
              " 'pp_simul__cognitive_evolution.ipynb',\n",
              " 'general_simbolico.ipynb',\n",
              " 'db__ventas_etica.json',\n",
              " 'db__general_phrases_v4.json',\n",
              " 'db__ventas_situaciones.json',\n",
              " 'pp_symbolic_read.ipynb',\n",
              " 'db__spatial_phrases.json',\n",
              " 'results.xlsx']"
            ]
          },
          "metadata": {},
          "execution_count": 32
        }
      ]
    },
    {
      "cell_type": "code",
      "source": [
        "# Experimento A\n",
        "palabras_objetivo = [\"corrupción\", \"riesgo\", \"ética\", \"ilegal\", \"engaño\", \"fraude\", \"manipulación\", \"regalo\", \"presión\", \"soborno\"]\n",
        "archivo_base = \"db__ventas_situaciones.json\"\n",
        "archivo_condiciones = \"db__ventas_etica.json\"\n",
        "# 🧪 Probar con una frase\n",
        "frases = [\n",
        "    \"El vendedor da un regalo al gerente de la empresa\",\n",
        "    \"La vendedora tiene intenciones de no transmitir toda la información al cliente\",\n",
        "    \"El apuro hace que no se consulten los detalles del producto antes de la venta\"\n",
        "  ]"
      ],
      "metadata": {
        "id": "Vik1pXXFFZw_"
      },
      "execution_count": null,
      "outputs": []
    },
    {
      "cell_type": "code",
      "source": [
        "# Experimento B\n",
        "palabras_objetivo = [\"caida\", \"ruptura\", \"resbalar\", \"tritura\", \"impacto\", \"desorden\", \"riesgo\", \"quebrado\", \"roto\", \"ruptura\"]\n",
        "archivo_base = \"db__general_phrases_v4.json\"\n",
        "archivo_condiciones = \"db__spatial_phrases.json\"\n",
        "# 🧪 Probar con una frase\n",
        "frases = [\n",
        "    \"El plato está al borde de la mesa\",\n",
        "    \"Las tazas están siendo manipuladas sin cuidado\",\n",
        "    \"Hay muchos platos superpuestos uno sobre otro sin equilibrio\"\n",
        "    ]"
      ],
      "metadata": {
        "id": "2xWTtFwCFh-I"
      },
      "execution_count": null,
      "outputs": []
    },
    {
      "cell_type": "code",
      "source": [
        "frases_total = [\n",
        "    \"El vendedor da un regalo al gerente de la empresa\",\n",
        "    \"La vendedora tiene intenciones de no transmitir toda la información al cliente\",\n",
        "    \"El apuro hace que no se consulten los detalles del producto antes de la venta\",\n",
        "    \"El plato está al borde de la mesa\",\n",
        "    \"Las tazas están siendo manipuladas sin cuidado\",\n",
        "    \"Hay muchos platos superpuestos uno sobre otro sin equilibrio\"\n",
        "    ]"
      ],
      "metadata": {
        "id": "rEXAVlYodRVN"
      },
      "execution_count": null,
      "outputs": []
    },
    {
      "cell_type": "code",
      "source": [
        "frases_df = pd.DataFrame(frases_total, columns=['frases'])\n",
        "frases_df.to_excel(path+\"frases_test.xlsx\")"
      ],
      "metadata": {
        "id": "eg9F-PfhdXv8"
      },
      "execution_count": null,
      "outputs": []
    },
    {
      "cell_type": "code",
      "source": [
        "# 📥 Función para cargar frases\n",
        "def cargar_sentencias(path, archivo, clave):\n",
        "    with open(os.path.join(path, archivo), \"r\", encoding=\"utf-8\") as f:\n",
        "        data = json.load(f)\n",
        "    return [s.split() for s in data[clave]]\n",
        "\n",
        "# 🧹 Si querés limpieza básica:\n",
        "def limpiar_frase(frase):\n",
        "    return frase.lower().replace(\".\", \"\").replace(\",\", \"\").replace(\"¿\", \"\").replace(\"?\", \"\").replace(\"¡\", \"\").replace(\"!\", \"\")\n",
        "\n",
        "# ✅ Cargar frases base y condicionales\n",
        "general_sentences = cargar_sentencias(path, archivo_base, \"phrases\")\n",
        "condition_sentences = cargar_sentencias(path, archivo_condiciones, \"phrases\")"
      ],
      "metadata": {
        "id": "iwkL-vXvDIX6"
      },
      "execution_count": null,
      "outputs": []
    },
    {
      "cell_type": "code",
      "source": [
        "len(general_sentences), len(condition_sentences)"
      ],
      "metadata": {
        "colab": {
          "base_uri": "https://localhost:8080/"
        },
        "id": "eaJQja4mjjpX",
        "outputId": "b2a10d7f-c1b0-4f90-d9fd-55d8e4905b76"
      },
      "execution_count": null,
      "outputs": [
        {
          "output_type": "execute_result",
          "data": {
            "text/plain": [
              "(305, 73)"
            ]
          },
          "metadata": {},
          "execution_count": 43
        }
      ]
    },
    {
      "cell_type": "code",
      "source": [
        "# 🧠 Entrenar modelos Word2Vec\n",
        "def entrenar_w2v(sentences, vector_size=50, window=5, min_count=1, sg=1, epochs=200):\n",
        "    return Word2Vec(\n",
        "        sentences=sentences,\n",
        "        vector_size=vector_size,\n",
        "        window=window,\n",
        "        min_count=min_count,\n",
        "        workers=4,\n",
        "        sg=sg,\n",
        "        epochs=epochs\n",
        "    )\n",
        "\n",
        "w2v_base = entrenar_w2v(general_sentences)\n",
        "w2v_combined = entrenar_w2v(general_sentences + condition_sentences)"
      ],
      "metadata": {
        "id": "o_SGZ75iDO4W"
      },
      "execution_count": null,
      "outputs": []
    },
    {
      "cell_type": "code",
      "source": [
        "# 🔍 Función para ver palabras cercanas a una frase\n",
        "def palabras_mas_cercanas_a_frase(frase, modelo, topn=10):\n",
        "    palabras = limpiar_frase(frase).split()\n",
        "    vectores = [modelo.wv[word] for word in palabras if word in modelo.wv]\n",
        "    if not vectores:\n",
        "        print(\"Ninguna palabra de la frase está en el vocabulario.\")\n",
        "        return []\n",
        "    promedio = np.mean(vectores, axis=0)\n",
        "    return modelo.wv.similar_by_vector(promedio, topn=topn)\n",
        "\n",
        "print(\"🔹 Modelo BASE:\")\n",
        "for palabra, sim in palabras_mas_cercanas_a_frase(frase_input, w2v_base):\n",
        "    print(f\"{palabra}: {sim:.4f}\")\n",
        "\n",
        "print(\"\\n🔸 Modelo COMBINADO (base + condiciones):\")\n",
        "for palabra, sim in palabras_mas_cercanas_a_frase(frase_input, w2v_combined):\n",
        "    print(f\"{palabra}: {sim:.4f}\")"
      ],
      "metadata": {
        "colab": {
          "base_uri": "https://localhost:8080/"
        },
        "id": "MPzpblGD_Zp2",
        "outputId": "562db999-aaec-4176-d2ce-8c3d7dacfe9c"
      },
      "execution_count": null,
      "outputs": [
        {
          "output_type": "stream",
          "name": "stdout",
          "text": [
            "🔹 Modelo BASE:\n",
            "correctamente.: 0.6662\n",
            "otro: 0.6572\n",
            "cualquier: 0.6542\n",
            "balancea: 0.6490\n",
            "terminado: 0.6413\n",
            "ha: 0.6410\n",
            "metal.: 0.6347\n",
            "indica: 0.6315\n",
            "lados: 0.6305\n",
            "frías.: 0.6281\n",
            "\n",
            "🔸 Modelo COMBINADO (base + condiciones):\n",
            "alejado: 0.6720\n",
            "respecto: 0.6658\n",
            "descentrado: 0.6624\n",
            "metálicos.: 0.6567\n",
            "exacto: 0.6546\n",
            "cuchara.: 0.6538\n",
            "inclinando: 0.6511\n",
            "afilado: 0.6435\n",
            "balancea: 0.6418\n",
            "lejos: 0.6371\n"
          ]
        }
      ]
    },
    {
      "cell_type": "code",
      "source": [
        "from sklearn.metrics.pairwise import cosine_similarity\n",
        "\n",
        "def similitud_con_palabras_objetivo(frase, modelo, palabras_objetivo, topn=10):\n",
        "    # Obtener palabras más cercanas al promedio de la frase\n",
        "    palabras_modelo = palabras_mas_cercanas_a_frase(frase, modelo, topn=topn)\n",
        "    palabras_encontradas = [palabra for palabra, _ in palabras_modelo if palabra in modelo.wv]\n",
        "\n",
        "    if not palabras_encontradas:\n",
        "        return np.nan  # or any other appropriate value\n",
        "    vec_encontrado = np.mean([modelo.wv[p] for p in palabras_encontradas], axis=0)\n",
        "\n",
        "    # Calcular promedio de palabras objetivo\n",
        "    palabras_obj = [p for p in palabras_objetivo if p in modelo.wv]\n",
        "    # Check if palabras_obj is empty\n",
        "    if not palabras_obj:\n",
        "        return np.nan  # or any other appropriate value\n",
        "    vec_objetivo = np.mean([modelo.wv[p] for p in palabras_obj], axis=0)\n",
        "\n",
        "    # Reshape the vectors to 2D if they are 1D\n",
        "    vec_encontrado = vec_encontrado.reshape(1, -1)\n",
        "    vec_objetivo = vec_objetivo.reshape(1, -1)\n",
        "\n",
        "    # Cosine similarity\n",
        "    sim = cosine_similarity(vec_encontrado, vec_objetivo)[0][0]\n",
        "    return sim"
      ],
      "metadata": {
        "id": "rgk1zmhIHW4l"
      },
      "execution_count": null,
      "outputs": []
    },
    {
      "cell_type": "code",
      "source": [
        "def check_words_in_vocab(words, model):\n",
        "    in_vocab = {}\n",
        "    for word in words:\n",
        "        in_vocab[word] = word in model.wv\n",
        "    return in_vocab\n",
        "\n",
        "# Example usage:\n",
        "vocab_check_base = check_words_in_vocab(palabras_objetivo, w2v_base)\n",
        "print(\"Palabras objetivo en vocabulario base:\")\n",
        "print(vocab_check_base)\n",
        "\n",
        "vocab_check_combined = check_words_in_vocab(palabras_objetivo, w2v_combined)\n",
        "print(\"\\nPalabras objetivo en vocabulario combinado:\")\n",
        "vocab_check_combined"
      ],
      "metadata": {
        "colab": {
          "base_uri": "https://localhost:8080/"
        },
        "id": "iYnyBF043ql0",
        "outputId": "be033343-f0ac-4b12-a21b-cdb7e714b919"
      },
      "execution_count": null,
      "outputs": [
        {
          "output_type": "stream",
          "name": "stdout",
          "text": [
            "Palabras objetivo en vocabulario base:\n",
            "{'caida': False, 'ruptura': True, 'resbalar': False, 'tritura': False, 'impacto': True, 'desorden': True, 'riesgo': True, 'quebrado': True, 'roto': True}\n",
            "\n",
            "Palabras objetivo en vocabulario combinado:\n"
          ]
        },
        {
          "output_type": "execute_result",
          "data": {
            "text/plain": [
              "{'caida': False,\n",
              " 'ruptura': True,\n",
              " 'resbalar': True,\n",
              " 'tritura': False,\n",
              " 'impacto': True,\n",
              " 'desorden': True,\n",
              " 'riesgo': True,\n",
              " 'quebrado': True,\n",
              " 'roto': True}"
            ]
          },
          "metadata": {},
          "execution_count": 47
        }
      ]
    },
    {
      "cell_type": "code",
      "source": [
        "for frase_input in frases:\n",
        "  sim_base = similitud_con_palabras_objetivo(frase_input, w2v_base, palabras_objetivo)\n",
        "  sim_combinado = similitud_con_palabras_objetivo(frase_input, w2v_combined, palabras_objetivo)\n",
        "  data_experimento = [archivo_base, archivo_condiciones, sim_base, sim_combinado]\n",
        "  timestamp = datetime.datetime.now().strftime(\"%Y-%m-%d %H:%M:%S\")\n",
        "  data_experimento.append(timestamp)\n",
        "  new_row = pd.DataFrame([data_experimento], columns=['archivo_base', 'archivo_condiciones', 'sim_base', 'sim_combinado', 'timestamp'])\n",
        "  lab_data = pd.concat([lab_data, new_row], ignore_index=True)\n",
        "\n",
        "lab_data"
      ],
      "metadata": {
        "colab": {
          "base_uri": "https://localhost:8080/",
          "height": 238
        },
        "id": "SWfWu5KeDvPF",
        "outputId": "34a45e9c-e5ea-4a13-fafd-388a244b18f7"
      },
      "execution_count": null,
      "outputs": [
        {
          "output_type": "execute_result",
          "data": {
            "text/plain": [
              "                  archivo_base       archivo_condiciones  sim_base  \\\n",
              "0  db__ventas_situaciones.json     db__ventas_etica.json  0.785407   \n",
              "1  db__ventas_situaciones.json     db__ventas_etica.json  0.639894   \n",
              "2  db__ventas_situaciones.json     db__ventas_etica.json  0.658628   \n",
              "3  db__general_phrases_v4.json  db__spatial_phrases.json  0.646315   \n",
              "4  db__general_phrases_v4.json  db__spatial_phrases.json  0.535361   \n",
              "5  db__general_phrases_v4.json  db__spatial_phrases.json  0.715575   \n",
              "\n",
              "   sim_combinado            timestamp  \n",
              "0       0.804820  2025-04-17 20:18:46  \n",
              "1       0.643459  2025-04-17 20:18:46  \n",
              "2       0.719100  2025-04-17 20:18:46  \n",
              "3       0.816527  2025-04-17 20:19:35  \n",
              "4       0.568084  2025-04-17 20:19:35  \n",
              "5       0.648911  2025-04-17 20:19:35  "
            ],
            "text/html": [
              "\n",
              "  <div id=\"df-38b16895-71ac-42a2-be09-13c1910beae3\" class=\"colab-df-container\">\n",
              "    <div>\n",
              "<style scoped>\n",
              "    .dataframe tbody tr th:only-of-type {\n",
              "        vertical-align: middle;\n",
              "    }\n",
              "\n",
              "    .dataframe tbody tr th {\n",
              "        vertical-align: top;\n",
              "    }\n",
              "\n",
              "    .dataframe thead th {\n",
              "        text-align: right;\n",
              "    }\n",
              "</style>\n",
              "<table border=\"1\" class=\"dataframe\">\n",
              "  <thead>\n",
              "    <tr style=\"text-align: right;\">\n",
              "      <th></th>\n",
              "      <th>archivo_base</th>\n",
              "      <th>archivo_condiciones</th>\n",
              "      <th>sim_base</th>\n",
              "      <th>sim_combinado</th>\n",
              "      <th>timestamp</th>\n",
              "    </tr>\n",
              "  </thead>\n",
              "  <tbody>\n",
              "    <tr>\n",
              "      <th>0</th>\n",
              "      <td>db__ventas_situaciones.json</td>\n",
              "      <td>db__ventas_etica.json</td>\n",
              "      <td>0.785407</td>\n",
              "      <td>0.804820</td>\n",
              "      <td>2025-04-17 20:18:46</td>\n",
              "    </tr>\n",
              "    <tr>\n",
              "      <th>1</th>\n",
              "      <td>db__ventas_situaciones.json</td>\n",
              "      <td>db__ventas_etica.json</td>\n",
              "      <td>0.639894</td>\n",
              "      <td>0.643459</td>\n",
              "      <td>2025-04-17 20:18:46</td>\n",
              "    </tr>\n",
              "    <tr>\n",
              "      <th>2</th>\n",
              "      <td>db__ventas_situaciones.json</td>\n",
              "      <td>db__ventas_etica.json</td>\n",
              "      <td>0.658628</td>\n",
              "      <td>0.719100</td>\n",
              "      <td>2025-04-17 20:18:46</td>\n",
              "    </tr>\n",
              "    <tr>\n",
              "      <th>3</th>\n",
              "      <td>db__general_phrases_v4.json</td>\n",
              "      <td>db__spatial_phrases.json</td>\n",
              "      <td>0.646315</td>\n",
              "      <td>0.816527</td>\n",
              "      <td>2025-04-17 20:19:35</td>\n",
              "    </tr>\n",
              "    <tr>\n",
              "      <th>4</th>\n",
              "      <td>db__general_phrases_v4.json</td>\n",
              "      <td>db__spatial_phrases.json</td>\n",
              "      <td>0.535361</td>\n",
              "      <td>0.568084</td>\n",
              "      <td>2025-04-17 20:19:35</td>\n",
              "    </tr>\n",
              "    <tr>\n",
              "      <th>5</th>\n",
              "      <td>db__general_phrases_v4.json</td>\n",
              "      <td>db__spatial_phrases.json</td>\n",
              "      <td>0.715575</td>\n",
              "      <td>0.648911</td>\n",
              "      <td>2025-04-17 20:19:35</td>\n",
              "    </tr>\n",
              "  </tbody>\n",
              "</table>\n",
              "</div>\n",
              "    <div class=\"colab-df-buttons\">\n",
              "\n",
              "  <div class=\"colab-df-container\">\n",
              "    <button class=\"colab-df-convert\" onclick=\"convertToInteractive('df-38b16895-71ac-42a2-be09-13c1910beae3')\"\n",
              "            title=\"Convert this dataframe to an interactive table.\"\n",
              "            style=\"display:none;\">\n",
              "\n",
              "  <svg xmlns=\"http://www.w3.org/2000/svg\" height=\"24px\" viewBox=\"0 -960 960 960\">\n",
              "    <path d=\"M120-120v-720h720v720H120Zm60-500h600v-160H180v160Zm220 220h160v-160H400v160Zm0 220h160v-160H400v160ZM180-400h160v-160H180v160Zm440 0h160v-160H620v160ZM180-180h160v-160H180v160Zm440 0h160v-160H620v160Z\"/>\n",
              "  </svg>\n",
              "    </button>\n",
              "\n",
              "  <style>\n",
              "    .colab-df-container {\n",
              "      display:flex;\n",
              "      gap: 12px;\n",
              "    }\n",
              "\n",
              "    .colab-df-convert {\n",
              "      background-color: #E8F0FE;\n",
              "      border: none;\n",
              "      border-radius: 50%;\n",
              "      cursor: pointer;\n",
              "      display: none;\n",
              "      fill: #1967D2;\n",
              "      height: 32px;\n",
              "      padding: 0 0 0 0;\n",
              "      width: 32px;\n",
              "    }\n",
              "\n",
              "    .colab-df-convert:hover {\n",
              "      background-color: #E2EBFA;\n",
              "      box-shadow: 0px 1px 2px rgba(60, 64, 67, 0.3), 0px 1px 3px 1px rgba(60, 64, 67, 0.15);\n",
              "      fill: #174EA6;\n",
              "    }\n",
              "\n",
              "    .colab-df-buttons div {\n",
              "      margin-bottom: 4px;\n",
              "    }\n",
              "\n",
              "    [theme=dark] .colab-df-convert {\n",
              "      background-color: #3B4455;\n",
              "      fill: #D2E3FC;\n",
              "    }\n",
              "\n",
              "    [theme=dark] .colab-df-convert:hover {\n",
              "      background-color: #434B5C;\n",
              "      box-shadow: 0px 1px 3px 1px rgba(0, 0, 0, 0.15);\n",
              "      filter: drop-shadow(0px 1px 2px rgba(0, 0, 0, 0.3));\n",
              "      fill: #FFFFFF;\n",
              "    }\n",
              "  </style>\n",
              "\n",
              "    <script>\n",
              "      const buttonEl =\n",
              "        document.querySelector('#df-38b16895-71ac-42a2-be09-13c1910beae3 button.colab-df-convert');\n",
              "      buttonEl.style.display =\n",
              "        google.colab.kernel.accessAllowed ? 'block' : 'none';\n",
              "\n",
              "      async function convertToInteractive(key) {\n",
              "        const element = document.querySelector('#df-38b16895-71ac-42a2-be09-13c1910beae3');\n",
              "        const dataTable =\n",
              "          await google.colab.kernel.invokeFunction('convertToInteractive',\n",
              "                                                    [key], {});\n",
              "        if (!dataTable) return;\n",
              "\n",
              "        const docLinkHtml = 'Like what you see? Visit the ' +\n",
              "          '<a target=\"_blank\" href=https://colab.research.google.com/notebooks/data_table.ipynb>data table notebook</a>'\n",
              "          + ' to learn more about interactive tables.';\n",
              "        element.innerHTML = '';\n",
              "        dataTable['output_type'] = 'display_data';\n",
              "        await google.colab.output.renderOutput(dataTable, element);\n",
              "        const docLink = document.createElement('div');\n",
              "        docLink.innerHTML = docLinkHtml;\n",
              "        element.appendChild(docLink);\n",
              "      }\n",
              "    </script>\n",
              "  </div>\n",
              "\n",
              "\n",
              "<div id=\"df-f27f90f8-573b-424c-8d4e-f88b4a2495ad\">\n",
              "  <button class=\"colab-df-quickchart\" onclick=\"quickchart('df-f27f90f8-573b-424c-8d4e-f88b4a2495ad')\"\n",
              "            title=\"Suggest charts\"\n",
              "            style=\"display:none;\">\n",
              "\n",
              "<svg xmlns=\"http://www.w3.org/2000/svg\" height=\"24px\"viewBox=\"0 0 24 24\"\n",
              "     width=\"24px\">\n",
              "    <g>\n",
              "        <path d=\"M19 3H5c-1.1 0-2 .9-2 2v14c0 1.1.9 2 2 2h14c1.1 0 2-.9 2-2V5c0-1.1-.9-2-2-2zM9 17H7v-7h2v7zm4 0h-2V7h2v10zm4 0h-2v-4h2v4z\"/>\n",
              "    </g>\n",
              "</svg>\n",
              "  </button>\n",
              "\n",
              "<style>\n",
              "  .colab-df-quickchart {\n",
              "      --bg-color: #E8F0FE;\n",
              "      --fill-color: #1967D2;\n",
              "      --hover-bg-color: #E2EBFA;\n",
              "      --hover-fill-color: #174EA6;\n",
              "      --disabled-fill-color: #AAA;\n",
              "      --disabled-bg-color: #DDD;\n",
              "  }\n",
              "\n",
              "  [theme=dark] .colab-df-quickchart {\n",
              "      --bg-color: #3B4455;\n",
              "      --fill-color: #D2E3FC;\n",
              "      --hover-bg-color: #434B5C;\n",
              "      --hover-fill-color: #FFFFFF;\n",
              "      --disabled-bg-color: #3B4455;\n",
              "      --disabled-fill-color: #666;\n",
              "  }\n",
              "\n",
              "  .colab-df-quickchart {\n",
              "    background-color: var(--bg-color);\n",
              "    border: none;\n",
              "    border-radius: 50%;\n",
              "    cursor: pointer;\n",
              "    display: none;\n",
              "    fill: var(--fill-color);\n",
              "    height: 32px;\n",
              "    padding: 0;\n",
              "    width: 32px;\n",
              "  }\n",
              "\n",
              "  .colab-df-quickchart:hover {\n",
              "    background-color: var(--hover-bg-color);\n",
              "    box-shadow: 0 1px 2px rgba(60, 64, 67, 0.3), 0 1px 3px 1px rgba(60, 64, 67, 0.15);\n",
              "    fill: var(--button-hover-fill-color);\n",
              "  }\n",
              "\n",
              "  .colab-df-quickchart-complete:disabled,\n",
              "  .colab-df-quickchart-complete:disabled:hover {\n",
              "    background-color: var(--disabled-bg-color);\n",
              "    fill: var(--disabled-fill-color);\n",
              "    box-shadow: none;\n",
              "  }\n",
              "\n",
              "  .colab-df-spinner {\n",
              "    border: 2px solid var(--fill-color);\n",
              "    border-color: transparent;\n",
              "    border-bottom-color: var(--fill-color);\n",
              "    animation:\n",
              "      spin 1s steps(1) infinite;\n",
              "  }\n",
              "\n",
              "  @keyframes spin {\n",
              "    0% {\n",
              "      border-color: transparent;\n",
              "      border-bottom-color: var(--fill-color);\n",
              "      border-left-color: var(--fill-color);\n",
              "    }\n",
              "    20% {\n",
              "      border-color: transparent;\n",
              "      border-left-color: var(--fill-color);\n",
              "      border-top-color: var(--fill-color);\n",
              "    }\n",
              "    30% {\n",
              "      border-color: transparent;\n",
              "      border-left-color: var(--fill-color);\n",
              "      border-top-color: var(--fill-color);\n",
              "      border-right-color: var(--fill-color);\n",
              "    }\n",
              "    40% {\n",
              "      border-color: transparent;\n",
              "      border-right-color: var(--fill-color);\n",
              "      border-top-color: var(--fill-color);\n",
              "    }\n",
              "    60% {\n",
              "      border-color: transparent;\n",
              "      border-right-color: var(--fill-color);\n",
              "    }\n",
              "    80% {\n",
              "      border-color: transparent;\n",
              "      border-right-color: var(--fill-color);\n",
              "      border-bottom-color: var(--fill-color);\n",
              "    }\n",
              "    90% {\n",
              "      border-color: transparent;\n",
              "      border-bottom-color: var(--fill-color);\n",
              "    }\n",
              "  }\n",
              "</style>\n",
              "\n",
              "  <script>\n",
              "    async function quickchart(key) {\n",
              "      const quickchartButtonEl =\n",
              "        document.querySelector('#' + key + ' button');\n",
              "      quickchartButtonEl.disabled = true;  // To prevent multiple clicks.\n",
              "      quickchartButtonEl.classList.add('colab-df-spinner');\n",
              "      try {\n",
              "        const charts = await google.colab.kernel.invokeFunction(\n",
              "            'suggestCharts', [key], {});\n",
              "      } catch (error) {\n",
              "        console.error('Error during call to suggestCharts:', error);\n",
              "      }\n",
              "      quickchartButtonEl.classList.remove('colab-df-spinner');\n",
              "      quickchartButtonEl.classList.add('colab-df-quickchart-complete');\n",
              "    }\n",
              "    (() => {\n",
              "      let quickchartButtonEl =\n",
              "        document.querySelector('#df-f27f90f8-573b-424c-8d4e-f88b4a2495ad button');\n",
              "      quickchartButtonEl.style.display =\n",
              "        google.colab.kernel.accessAllowed ? 'block' : 'none';\n",
              "    })();\n",
              "  </script>\n",
              "</div>\n",
              "\n",
              "  <div id=\"id_3b54fef7-aa3e-4fe6-9621-a0bba346a5ae\">\n",
              "    <style>\n",
              "      .colab-df-generate {\n",
              "        background-color: #E8F0FE;\n",
              "        border: none;\n",
              "        border-radius: 50%;\n",
              "        cursor: pointer;\n",
              "        display: none;\n",
              "        fill: #1967D2;\n",
              "        height: 32px;\n",
              "        padding: 0 0 0 0;\n",
              "        width: 32px;\n",
              "      }\n",
              "\n",
              "      .colab-df-generate:hover {\n",
              "        background-color: #E2EBFA;\n",
              "        box-shadow: 0px 1px 2px rgba(60, 64, 67, 0.3), 0px 1px 3px 1px rgba(60, 64, 67, 0.15);\n",
              "        fill: #174EA6;\n",
              "      }\n",
              "\n",
              "      [theme=dark] .colab-df-generate {\n",
              "        background-color: #3B4455;\n",
              "        fill: #D2E3FC;\n",
              "      }\n",
              "\n",
              "      [theme=dark] .colab-df-generate:hover {\n",
              "        background-color: #434B5C;\n",
              "        box-shadow: 0px 1px 3px 1px rgba(0, 0, 0, 0.15);\n",
              "        filter: drop-shadow(0px 1px 2px rgba(0, 0, 0, 0.3));\n",
              "        fill: #FFFFFF;\n",
              "      }\n",
              "    </style>\n",
              "    <button class=\"colab-df-generate\" onclick=\"generateWithVariable('lab_data')\"\n",
              "            title=\"Generate code using this dataframe.\"\n",
              "            style=\"display:none;\">\n",
              "\n",
              "  <svg xmlns=\"http://www.w3.org/2000/svg\" height=\"24px\"viewBox=\"0 0 24 24\"\n",
              "       width=\"24px\">\n",
              "    <path d=\"M7,19H8.4L18.45,9,17,7.55,7,17.6ZM5,21V16.75L18.45,3.32a2,2,0,0,1,2.83,0l1.4,1.43a1.91,1.91,0,0,1,.58,1.4,1.91,1.91,0,0,1-.58,1.4L9.25,21ZM18.45,9,17,7.55Zm-12,3A5.31,5.31,0,0,0,4.9,8.1,5.31,5.31,0,0,0,1,6.5,5.31,5.31,0,0,0,4.9,4.9,5.31,5.31,0,0,0,6.5,1,5.31,5.31,0,0,0,8.1,4.9,5.31,5.31,0,0,0,12,6.5,5.46,5.46,0,0,0,6.5,12Z\"/>\n",
              "  </svg>\n",
              "    </button>\n",
              "    <script>\n",
              "      (() => {\n",
              "      const buttonEl =\n",
              "        document.querySelector('#id_3b54fef7-aa3e-4fe6-9621-a0bba346a5ae button.colab-df-generate');\n",
              "      buttonEl.style.display =\n",
              "        google.colab.kernel.accessAllowed ? 'block' : 'none';\n",
              "\n",
              "      buttonEl.onclick = () => {\n",
              "        google.colab.notebook.generateWithVariable('lab_data');\n",
              "      }\n",
              "      })();\n",
              "    </script>\n",
              "  </div>\n",
              "\n",
              "    </div>\n",
              "  </div>\n"
            ],
            "application/vnd.google.colaboratory.intrinsic+json": {
              "type": "dataframe",
              "variable_name": "lab_data",
              "summary": "{\n  \"name\": \"lab_data\",\n  \"rows\": 6,\n  \"fields\": [\n    {\n      \"column\": \"archivo_base\",\n      \"properties\": {\n        \"dtype\": \"category\",\n        \"num_unique_values\": 2,\n        \"samples\": [\n          \"db__general_phrases_v4.json\",\n          \"db__ventas_situaciones.json\"\n        ],\n        \"semantic_type\": \"\",\n        \"description\": \"\"\n      }\n    },\n    {\n      \"column\": \"archivo_condiciones\",\n      \"properties\": {\n        \"dtype\": \"category\",\n        \"num_unique_values\": 2,\n        \"samples\": [\n          \"db__spatial_phrases.json\",\n          \"db__ventas_etica.json\"\n        ],\n        \"semantic_type\": \"\",\n        \"description\": \"\"\n      }\n    },\n    {\n      \"column\": \"sim_base\",\n      \"properties\": {\n        \"dtype\": \"float32\",\n        \"num_unique_values\": 6,\n        \"samples\": [\n          0.7854068279266357,\n          0.6398940086364746\n        ],\n        \"semantic_type\": \"\",\n        \"description\": \"\"\n      }\n    },\n    {\n      \"column\": \"sim_combinado\",\n      \"properties\": {\n        \"dtype\": \"float32\",\n        \"num_unique_values\": 6,\n        \"samples\": [\n          0.8048199415206909,\n          0.6434587836265564\n        ],\n        \"semantic_type\": \"\",\n        \"description\": \"\"\n      }\n    },\n    {\n      \"column\": \"timestamp\",\n      \"properties\": {\n        \"dtype\": \"object\",\n        \"num_unique_values\": 2,\n        \"samples\": [\n          \"2025-04-17 20:19:35\",\n          \"2025-04-17 20:18:46\"\n        ],\n        \"semantic_type\": \"\",\n        \"description\": \"\"\n      }\n    }\n  ]\n}"
            }
          },
          "metadata": {},
          "execution_count": 48
        }
      ]
    },
    {
      "cell_type": "code",
      "source": [
        "lab_data.to_excel(path+\"results_v2.xlsx\")"
      ],
      "metadata": {
        "id": "a1mFT6k-XuRI"
      },
      "execution_count": null,
      "outputs": []
    }
  ]
}